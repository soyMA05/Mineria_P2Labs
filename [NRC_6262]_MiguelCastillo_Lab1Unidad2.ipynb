{
 "cells": [
  {
   "cell_type": "markdown",
   "id": "521cb2a1-edb1-486b-a90e-86ffd705a123",
   "metadata": {},
   "source": [
    "# Unidad 2: Laboratorio 1\n",
    "\n",
    "**Nombre:** Miguel Castillo"
   ]
  },
  {
   "cell_type": "code",
   "execution_count": 21,
   "id": "28ab2ff6-52bb-40db-819f-f50356387bbc",
   "metadata": {},
   "outputs": [],
   "source": [
    "\"\"\" Librerias \"\"\"\n",
    "import pandas as pd\n",
    "import numpy as np\n",
    "\n",
    "\"\"\" division de los datos \"\"\"\n",
    "from sklearn.model_selection import train_test_split\n"
   ]
  },
  {
   "cell_type": "markdown",
   "id": "f11f7304-a5e1-4fc6-a06b-423323e2c0c0",
   "metadata": {},
   "source": [
    "## 1. Analisis del dataset"
   ]
  },
  {
   "cell_type": "code",
   "execution_count": 4,
   "id": "e2f7e983-46ce-4a2a-9057-3db48eb38160",
   "metadata": {},
   "outputs": [
    {
     "data": {
      "text/html": [
       "<div>\n",
       "<style scoped>\n",
       "    .dataframe tbody tr th:only-of-type {\n",
       "        vertical-align: middle;\n",
       "    }\n",
       "\n",
       "    .dataframe tbody tr th {\n",
       "        vertical-align: top;\n",
       "    }\n",
       "\n",
       "    .dataframe thead th {\n",
       "        text-align: right;\n",
       "    }\n",
       "</style>\n",
       "<table border=\"1\" class=\"dataframe\">\n",
       "  <thead>\n",
       "    <tr style=\"text-align: right;\">\n",
       "      <th></th>\n",
       "      <th>ID</th>\n",
       "      <th>No_Pation</th>\n",
       "      <th>Gender</th>\n",
       "      <th>AGE</th>\n",
       "      <th>Urea</th>\n",
       "      <th>Cr</th>\n",
       "      <th>HbA1c</th>\n",
       "      <th>Chol</th>\n",
       "      <th>TG</th>\n",
       "      <th>HDL</th>\n",
       "      <th>LDL</th>\n",
       "      <th>VLDL</th>\n",
       "      <th>BMI</th>\n",
       "      <th>CLASS</th>\n",
       "    </tr>\n",
       "  </thead>\n",
       "  <tbody>\n",
       "    <tr>\n",
       "      <th>0</th>\n",
       "      <td>502</td>\n",
       "      <td>17975</td>\n",
       "      <td>F</td>\n",
       "      <td>50</td>\n",
       "      <td>4.7</td>\n",
       "      <td>46</td>\n",
       "      <td>4.9</td>\n",
       "      <td>4.2</td>\n",
       "      <td>0.9</td>\n",
       "      <td>2.4</td>\n",
       "      <td>1.4</td>\n",
       "      <td>0.5</td>\n",
       "      <td>24.0</td>\n",
       "      <td>N</td>\n",
       "    </tr>\n",
       "    <tr>\n",
       "      <th>1</th>\n",
       "      <td>735</td>\n",
       "      <td>34221</td>\n",
       "      <td>M</td>\n",
       "      <td>26</td>\n",
       "      <td>4.5</td>\n",
       "      <td>62</td>\n",
       "      <td>4.9</td>\n",
       "      <td>3.7</td>\n",
       "      <td>1.4</td>\n",
       "      <td>1.1</td>\n",
       "      <td>2.1</td>\n",
       "      <td>0.6</td>\n",
       "      <td>23.0</td>\n",
       "      <td>N</td>\n",
       "    </tr>\n",
       "    <tr>\n",
       "      <th>2</th>\n",
       "      <td>420</td>\n",
       "      <td>47975</td>\n",
       "      <td>F</td>\n",
       "      <td>50</td>\n",
       "      <td>4.7</td>\n",
       "      <td>46</td>\n",
       "      <td>4.9</td>\n",
       "      <td>4.2</td>\n",
       "      <td>0.9</td>\n",
       "      <td>2.4</td>\n",
       "      <td>1.4</td>\n",
       "      <td>0.5</td>\n",
       "      <td>24.0</td>\n",
       "      <td>N</td>\n",
       "    </tr>\n",
       "    <tr>\n",
       "      <th>3</th>\n",
       "      <td>680</td>\n",
       "      <td>87656</td>\n",
       "      <td>F</td>\n",
       "      <td>50</td>\n",
       "      <td>4.7</td>\n",
       "      <td>46</td>\n",
       "      <td>4.9</td>\n",
       "      <td>4.2</td>\n",
       "      <td>0.9</td>\n",
       "      <td>2.4</td>\n",
       "      <td>1.4</td>\n",
       "      <td>0.5</td>\n",
       "      <td>24.0</td>\n",
       "      <td>N</td>\n",
       "    </tr>\n",
       "    <tr>\n",
       "      <th>4</th>\n",
       "      <td>504</td>\n",
       "      <td>34223</td>\n",
       "      <td>M</td>\n",
       "      <td>33</td>\n",
       "      <td>7.1</td>\n",
       "      <td>46</td>\n",
       "      <td>4.9</td>\n",
       "      <td>4.9</td>\n",
       "      <td>1.0</td>\n",
       "      <td>0.8</td>\n",
       "      <td>2.0</td>\n",
       "      <td>0.4</td>\n",
       "      <td>21.0</td>\n",
       "      <td>N</td>\n",
       "    </tr>\n",
       "    <tr>\n",
       "      <th>5</th>\n",
       "      <td>634</td>\n",
       "      <td>34224</td>\n",
       "      <td>F</td>\n",
       "      <td>45</td>\n",
       "      <td>2.3</td>\n",
       "      <td>24</td>\n",
       "      <td>4.0</td>\n",
       "      <td>2.9</td>\n",
       "      <td>1.0</td>\n",
       "      <td>1.0</td>\n",
       "      <td>1.5</td>\n",
       "      <td>0.4</td>\n",
       "      <td>21.0</td>\n",
       "      <td>N</td>\n",
       "    </tr>\n",
       "    <tr>\n",
       "      <th>6</th>\n",
       "      <td>721</td>\n",
       "      <td>34225</td>\n",
       "      <td>F</td>\n",
       "      <td>50</td>\n",
       "      <td>2.0</td>\n",
       "      <td>50</td>\n",
       "      <td>4.0</td>\n",
       "      <td>3.6</td>\n",
       "      <td>1.3</td>\n",
       "      <td>0.9</td>\n",
       "      <td>2.1</td>\n",
       "      <td>0.6</td>\n",
       "      <td>24.0</td>\n",
       "      <td>N</td>\n",
       "    </tr>\n",
       "    <tr>\n",
       "      <th>7</th>\n",
       "      <td>421</td>\n",
       "      <td>34227</td>\n",
       "      <td>M</td>\n",
       "      <td>48</td>\n",
       "      <td>4.7</td>\n",
       "      <td>47</td>\n",
       "      <td>4.0</td>\n",
       "      <td>2.9</td>\n",
       "      <td>0.8</td>\n",
       "      <td>0.9</td>\n",
       "      <td>1.6</td>\n",
       "      <td>0.4</td>\n",
       "      <td>24.0</td>\n",
       "      <td>N</td>\n",
       "    </tr>\n",
       "    <tr>\n",
       "      <th>8</th>\n",
       "      <td>670</td>\n",
       "      <td>34229</td>\n",
       "      <td>M</td>\n",
       "      <td>43</td>\n",
       "      <td>2.6</td>\n",
       "      <td>67</td>\n",
       "      <td>4.0</td>\n",
       "      <td>3.8</td>\n",
       "      <td>0.9</td>\n",
       "      <td>2.4</td>\n",
       "      <td>3.7</td>\n",
       "      <td>1.0</td>\n",
       "      <td>21.0</td>\n",
       "      <td>N</td>\n",
       "    </tr>\n",
       "    <tr>\n",
       "      <th>9</th>\n",
       "      <td>759</td>\n",
       "      <td>34230</td>\n",
       "      <td>F</td>\n",
       "      <td>32</td>\n",
       "      <td>3.6</td>\n",
       "      <td>28</td>\n",
       "      <td>4.0</td>\n",
       "      <td>3.8</td>\n",
       "      <td>2.0</td>\n",
       "      <td>2.4</td>\n",
       "      <td>3.8</td>\n",
       "      <td>1.0</td>\n",
       "      <td>24.0</td>\n",
       "      <td>N</td>\n",
       "    </tr>\n",
       "  </tbody>\n",
       "</table>\n",
       "</div>"
      ],
      "text/plain": [
       "    ID  No_Pation Gender  AGE  Urea  Cr  HbA1c  Chol   TG  HDL  LDL  VLDL  \\\n",
       "0  502      17975      F   50   4.7  46    4.9   4.2  0.9  2.4  1.4   0.5   \n",
       "1  735      34221      M   26   4.5  62    4.9   3.7  1.4  1.1  2.1   0.6   \n",
       "2  420      47975      F   50   4.7  46    4.9   4.2  0.9  2.4  1.4   0.5   \n",
       "3  680      87656      F   50   4.7  46    4.9   4.2  0.9  2.4  1.4   0.5   \n",
       "4  504      34223      M   33   7.1  46    4.9   4.9  1.0  0.8  2.0   0.4   \n",
       "5  634      34224      F   45   2.3  24    4.0   2.9  1.0  1.0  1.5   0.4   \n",
       "6  721      34225      F   50   2.0  50    4.0   3.6  1.3  0.9  2.1   0.6   \n",
       "7  421      34227      M   48   4.7  47    4.0   2.9  0.8  0.9  1.6   0.4   \n",
       "8  670      34229      M   43   2.6  67    4.0   3.8  0.9  2.4  3.7   1.0   \n",
       "9  759      34230      F   32   3.6  28    4.0   3.8  2.0  2.4  3.8   1.0   \n",
       "\n",
       "    BMI CLASS  \n",
       "0  24.0     N  \n",
       "1  23.0     N  \n",
       "2  24.0     N  \n",
       "3  24.0     N  \n",
       "4  21.0     N  \n",
       "5  21.0     N  \n",
       "6  24.0     N  \n",
       "7  24.0     N  \n",
       "8  21.0     N  \n",
       "9  24.0     N  "
      ]
     },
     "execution_count": 4,
     "metadata": {},
     "output_type": "execute_result"
    }
   ],
   "source": [
    "\"\"\" importacion del dataset \"\"\"\n",
    "df = pd.read_csv(\"Dataset of Diabetes .csv\")\n",
    "\n",
    "\"\"\" muestra de los primeros diez datos \"\"\"\n",
    "df.head(10)"
   ]
  },
  {
   "cell_type": "code",
   "execution_count": 102,
   "id": "99033ae6-2873-4c0f-b2d9-81682fc594e9",
   "metadata": {},
   "outputs": [
    {
     "name": "stdout",
     "output_type": "stream",
     "text": [
      "<class 'pandas.core.frame.DataFrame'>\n",
      "RangeIndex: 1000 entries, 0 to 999\n",
      "Data columns (total 14 columns):\n",
      " #   Column     Non-Null Count  Dtype  \n",
      "---  ------     --------------  -----  \n",
      " 0   ID         1000 non-null   int64  \n",
      " 1   No_Pation  1000 non-null   int64  \n",
      " 2   Gender     1000 non-null   object \n",
      " 3   AGE        1000 non-null   int64  \n",
      " 4   Urea       1000 non-null   float64\n",
      " 5   Cr         1000 non-null   int64  \n",
      " 6   HbA1c      1000 non-null   float64\n",
      " 7   Chol       1000 non-null   float64\n",
      " 8   TG         1000 non-null   float64\n",
      " 9   HDL        1000 non-null   float64\n",
      " 10  LDL        1000 non-null   float64\n",
      " 11  VLDL       1000 non-null   float64\n",
      " 12  BMI        1000 non-null   float64\n",
      " 13  CLASS      1000 non-null   object \n",
      "dtypes: float64(8), int64(4), object(2)\n",
      "memory usage: 109.5+ KB\n"
     ]
    }
   ],
   "source": [
    "\"\"\" encontrar tipos de datos de las columnas \"\"\" \n",
    "df.info()"
   ]
  },
  {
   "cell_type": "code",
   "execution_count": 103,
   "id": "cf489594-7f48-48b8-a9f4-46705ba8481a",
   "metadata": {},
   "outputs": [
    {
     "data": {
      "text/html": [
       "<div>\n",
       "<style scoped>\n",
       "    .dataframe tbody tr th:only-of-type {\n",
       "        vertical-align: middle;\n",
       "    }\n",
       "\n",
       "    .dataframe tbody tr th {\n",
       "        vertical-align: top;\n",
       "    }\n",
       "\n",
       "    .dataframe thead th {\n",
       "        text-align: right;\n",
       "    }\n",
       "</style>\n",
       "<table border=\"1\" class=\"dataframe\">\n",
       "  <thead>\n",
       "    <tr style=\"text-align: right;\">\n",
       "      <th></th>\n",
       "      <th>ID</th>\n",
       "      <th>No_Pation</th>\n",
       "      <th>AGE</th>\n",
       "      <th>Urea</th>\n",
       "      <th>Cr</th>\n",
       "      <th>HbA1c</th>\n",
       "      <th>Chol</th>\n",
       "      <th>TG</th>\n",
       "      <th>HDL</th>\n",
       "      <th>LDL</th>\n",
       "      <th>VLDL</th>\n",
       "      <th>BMI</th>\n",
       "    </tr>\n",
       "  </thead>\n",
       "  <tbody>\n",
       "    <tr>\n",
       "      <th>count</th>\n",
       "      <td>1000.000000</td>\n",
       "      <td>1.000000e+03</td>\n",
       "      <td>1000.000000</td>\n",
       "      <td>1000.000000</td>\n",
       "      <td>1000.000000</td>\n",
       "      <td>1000.000000</td>\n",
       "      <td>1000.000000</td>\n",
       "      <td>1000.000000</td>\n",
       "      <td>1000.000000</td>\n",
       "      <td>1000.000000</td>\n",
       "      <td>1000.000000</td>\n",
       "      <td>1000.000000</td>\n",
       "    </tr>\n",
       "    <tr>\n",
       "      <th>mean</th>\n",
       "      <td>340.500000</td>\n",
       "      <td>2.705514e+05</td>\n",
       "      <td>53.528000</td>\n",
       "      <td>5.124743</td>\n",
       "      <td>68.943000</td>\n",
       "      <td>8.281160</td>\n",
       "      <td>4.862820</td>\n",
       "      <td>2.349610</td>\n",
       "      <td>1.204750</td>\n",
       "      <td>2.609790</td>\n",
       "      <td>1.854700</td>\n",
       "      <td>29.578020</td>\n",
       "    </tr>\n",
       "    <tr>\n",
       "      <th>std</th>\n",
       "      <td>240.397673</td>\n",
       "      <td>3.380758e+06</td>\n",
       "      <td>8.799241</td>\n",
       "      <td>2.935165</td>\n",
       "      <td>59.984747</td>\n",
       "      <td>2.534003</td>\n",
       "      <td>1.301738</td>\n",
       "      <td>1.401176</td>\n",
       "      <td>0.660414</td>\n",
       "      <td>1.115102</td>\n",
       "      <td>3.663599</td>\n",
       "      <td>4.962388</td>\n",
       "    </tr>\n",
       "    <tr>\n",
       "      <th>min</th>\n",
       "      <td>1.000000</td>\n",
       "      <td>1.230000e+02</td>\n",
       "      <td>20.000000</td>\n",
       "      <td>0.500000</td>\n",
       "      <td>6.000000</td>\n",
       "      <td>0.900000</td>\n",
       "      <td>0.000000</td>\n",
       "      <td>0.300000</td>\n",
       "      <td>0.200000</td>\n",
       "      <td>0.300000</td>\n",
       "      <td>0.100000</td>\n",
       "      <td>19.000000</td>\n",
       "    </tr>\n",
       "    <tr>\n",
       "      <th>25%</th>\n",
       "      <td>125.750000</td>\n",
       "      <td>2.406375e+04</td>\n",
       "      <td>51.000000</td>\n",
       "      <td>3.700000</td>\n",
       "      <td>48.000000</td>\n",
       "      <td>6.500000</td>\n",
       "      <td>4.000000</td>\n",
       "      <td>1.500000</td>\n",
       "      <td>0.900000</td>\n",
       "      <td>1.800000</td>\n",
       "      <td>0.700000</td>\n",
       "      <td>26.000000</td>\n",
       "    </tr>\n",
       "    <tr>\n",
       "      <th>50%</th>\n",
       "      <td>300.500000</td>\n",
       "      <td>3.439550e+04</td>\n",
       "      <td>55.000000</td>\n",
       "      <td>4.600000</td>\n",
       "      <td>60.000000</td>\n",
       "      <td>8.000000</td>\n",
       "      <td>4.800000</td>\n",
       "      <td>2.000000</td>\n",
       "      <td>1.100000</td>\n",
       "      <td>2.500000</td>\n",
       "      <td>0.900000</td>\n",
       "      <td>30.000000</td>\n",
       "    </tr>\n",
       "    <tr>\n",
       "      <th>75%</th>\n",
       "      <td>550.250000</td>\n",
       "      <td>4.538425e+04</td>\n",
       "      <td>59.000000</td>\n",
       "      <td>5.700000</td>\n",
       "      <td>73.000000</td>\n",
       "      <td>10.200000</td>\n",
       "      <td>5.600000</td>\n",
       "      <td>2.900000</td>\n",
       "      <td>1.300000</td>\n",
       "      <td>3.300000</td>\n",
       "      <td>1.500000</td>\n",
       "      <td>33.000000</td>\n",
       "    </tr>\n",
       "    <tr>\n",
       "      <th>max</th>\n",
       "      <td>800.000000</td>\n",
       "      <td>7.543566e+07</td>\n",
       "      <td>79.000000</td>\n",
       "      <td>38.900000</td>\n",
       "      <td>800.000000</td>\n",
       "      <td>16.000000</td>\n",
       "      <td>10.300000</td>\n",
       "      <td>13.800000</td>\n",
       "      <td>9.900000</td>\n",
       "      <td>9.900000</td>\n",
       "      <td>35.000000</td>\n",
       "      <td>47.750000</td>\n",
       "    </tr>\n",
       "  </tbody>\n",
       "</table>\n",
       "</div>"
      ],
      "text/plain": [
       "                ID     No_Pation          AGE         Urea           Cr  \\\n",
       "count  1000.000000  1.000000e+03  1000.000000  1000.000000  1000.000000   \n",
       "mean    340.500000  2.705514e+05    53.528000     5.124743    68.943000   \n",
       "std     240.397673  3.380758e+06     8.799241     2.935165    59.984747   \n",
       "min       1.000000  1.230000e+02    20.000000     0.500000     6.000000   \n",
       "25%     125.750000  2.406375e+04    51.000000     3.700000    48.000000   \n",
       "50%     300.500000  3.439550e+04    55.000000     4.600000    60.000000   \n",
       "75%     550.250000  4.538425e+04    59.000000     5.700000    73.000000   \n",
       "max     800.000000  7.543566e+07    79.000000    38.900000   800.000000   \n",
       "\n",
       "             HbA1c         Chol           TG          HDL          LDL  \\\n",
       "count  1000.000000  1000.000000  1000.000000  1000.000000  1000.000000   \n",
       "mean      8.281160     4.862820     2.349610     1.204750     2.609790   \n",
       "std       2.534003     1.301738     1.401176     0.660414     1.115102   \n",
       "min       0.900000     0.000000     0.300000     0.200000     0.300000   \n",
       "25%       6.500000     4.000000     1.500000     0.900000     1.800000   \n",
       "50%       8.000000     4.800000     2.000000     1.100000     2.500000   \n",
       "75%      10.200000     5.600000     2.900000     1.300000     3.300000   \n",
       "max      16.000000    10.300000    13.800000     9.900000     9.900000   \n",
       "\n",
       "              VLDL          BMI  \n",
       "count  1000.000000  1000.000000  \n",
       "mean      1.854700    29.578020  \n",
       "std       3.663599     4.962388  \n",
       "min       0.100000    19.000000  \n",
       "25%       0.700000    26.000000  \n",
       "50%       0.900000    30.000000  \n",
       "75%       1.500000    33.000000  \n",
       "max      35.000000    47.750000  "
      ]
     },
     "execution_count": 103,
     "metadata": {},
     "output_type": "execute_result"
    }
   ],
   "source": [
    "\"\"\" estadisticas del dataset \"\"\"\n",
    "df.describe()"
   ]
  },
  {
   "cell_type": "markdown",
   "id": "54906fd2-deb6-438c-8ada-9ed259c71c8b",
   "metadata": {},
   "source": [
    "### Interpretacion del dataset:\n",
    "En el dataset se cuenta con 1000 muestras y 14 columnas de variables o características. Se cuenta únicamente con dos columnas de características que contienen datos en forma de texto, las cuales son Gender y CLASS, mismas que son de tipo de dato \"object\". El resto de las caracteristicas son datos numericos. En las cuales se identifican que ocho columnas son de tipo \"float\" y las 4 columnas restantes son de tipo \"int\". <br>\n",
    "\n",
    "Con el metodo describe() se muestran estadísticas solo de los datos numericos, donde se puede observar que todas las características presentes cuentan con la misma cantidad de 1000 muestras o registros. El promedio de cada columna varía, ya que especialmente los valores de las caracteristicas de ID, No_pation, Age y BMI pueden considerarse como atípicos, debido a que son datos que se alejan del resto de las caracteristicas. Las cuatro características mencionadas anteriormente sobresalen en el resto de las estadísticas como son: la desviación estándar, el mínimo, máximo, el primer cuartil (25%), segundo cuartil (50%), tercer cuartil (75%) y cuarto cuartil (100%)."
   ]
  },
  {
   "cell_type": "markdown",
   "id": "d2be7621-9e5b-4f86-9731-920b0ef1063f",
   "metadata": {},
   "source": [
    "## 2. Preprocesamiento y limpieza de datos"
   ]
  },
  {
   "cell_type": "code",
   "execution_count": 5,
   "id": "7e7060ae-a6cc-4cdd-8071-e8955daebe61",
   "metadata": {},
   "outputs": [
    {
     "data": {
      "text/plain": [
       "ID           0\n",
       "No_Pation    0\n",
       "Gender       0\n",
       "AGE          0\n",
       "Urea         0\n",
       "Cr           0\n",
       "HbA1c        0\n",
       "Chol         0\n",
       "TG           0\n",
       "HDL          0\n",
       "LDL          0\n",
       "VLDL         0\n",
       "BMI          0\n",
       "CLASS        0\n",
       "dtype: int64"
      ]
     },
     "execution_count": 5,
     "metadata": {},
     "output_type": "execute_result"
    }
   ],
   "source": [
    "\"\"\" identificar datos faltantes \"\"\"\n",
    "df.isnull().sum()"
   ]
  },
  {
   "cell_type": "markdown",
   "id": "158016e2-55a8-4b18-9f73-261ee6ac39e2",
   "metadata": {},
   "source": [
    "#### 2.1 Codificacion de etiquetas"
   ]
  },
  {
   "cell_type": "code",
   "execution_count": 6,
   "id": "66f008d7-faea-45b7-97fe-8beac97531a3",
   "metadata": {},
   "outputs": [],
   "source": [
    "\"\"\" encontrar valores unicos de las caracteristicas \"\"\"\n",
    "def valores_unicos_etiquetas(columna1, columna2):\n",
    "    return display(df[columna1].unique(),df[columna2].unique())"
   ]
  },
  {
   "cell_type": "code",
   "execution_count": 7,
   "id": "4954545e-9b89-4470-a57e-a36e740b8bfb",
   "metadata": {},
   "outputs": [
    {
     "data": {
      "text/plain": [
       "array(['F', 'M', 'f'], dtype=object)"
      ]
     },
     "metadata": {},
     "output_type": "display_data"
    },
    {
     "data": {
      "text/plain": [
       "array(['N', 'N ', 'P', 'Y', 'Y '], dtype=object)"
      ]
     },
     "metadata": {},
     "output_type": "display_data"
    }
   ],
   "source": [
    "\"\"\" etiquetas de la columna [Gender] y [CLASS] \"\"\"\n",
    "valores_unicos_etiquetas('Gender','CLASS')"
   ]
  },
  {
   "cell_type": "markdown",
   "id": "167ec957-dead-4d8f-9cf9-c1847ed3ea98",
   "metadata": {},
   "source": [
    "**Nota**: En la columna Gender se identifican tres tipos de etiquetas ('F','M','f'). En cambio, en la columna CLASS existen cinco tipos de etiquetas de las cuales cuatro ('N','N ','Y','Y ') son similares visualmente, pero diferentes en su composición debido a el espacio que existe en la comilla simple. La desicion que se toma es la siguiente: <br>\n",
    "* Para el primer caso, se transforma todas las etiquetas a mayusculas. \n",
    "* Para el segundo caso, se elimina los espacios en blanco, haciendo que esas cuatro etiquetas se fusionen en dos('N' y 'Y').\n",
    "\n",
    "Se ha decidido aplicar estas tecnicas para evitar un posible mal rendimiento del modelo o para no generar predicciones y resultados que pueden ser inexistentes. Debido a que este cambio pudieron haber sido causados por errores en la manipulacion de los datos o desde la introduccion de los mismos."
   ]
  },
  {
   "cell_type": "code",
   "execution_count": 8,
   "id": "7a28ef11-a870-46ff-b6dd-d1a7e6b99ce1",
   "metadata": {},
   "outputs": [],
   "source": [
    "\"\"\"  ELIMINAR ESPACIOS EN BLANCO con el uso del metodo strip() \"\"\"\n",
    "df['CLASS'] = df['CLASS'].apply(lambda x: x.strip())\n",
    "\n",
    "\"\"\" CAMBIAR ETIQUETAS A MAYUSCULAS con el metodo upper() \"\"\"\n",
    "df['Gender'] = df['Gender'].apply(lambda x: x.upper() )"
   ]
  },
  {
   "cell_type": "code",
   "execution_count": 9,
   "id": "d522bf8e-d0cf-4abd-98f0-37bf7f9f1520",
   "metadata": {},
   "outputs": [],
   "source": [
    "\"\"\"CODIFICAR ETIQUETAS \"\"\"\n",
    "dicc_gender = {'F': 0, 'M':1}\n",
    "df['Gender'] =df['Gender'].map(dicc_gender)\n",
    "dicc_class = {'N':1, 'P':2, 'Y':3}\n",
    "df['CLASS'] =df['CLASS'].map(dicc_class)"
   ]
  },
  {
   "cell_type": "code",
   "execution_count": 10,
   "id": "0c5cdf7a-9394-40ef-835e-bdd1d0e2ea3a",
   "metadata": {},
   "outputs": [
    {
     "data": {
      "text/plain": [
       "array([0, 1], dtype=int64)"
      ]
     },
     "metadata": {},
     "output_type": "display_data"
    },
    {
     "data": {
      "text/plain": [
       "array([1, 2, 3], dtype=int64)"
      ]
     },
     "metadata": {},
     "output_type": "display_data"
    }
   ],
   "source": [
    "\"\"\" comprobar valor de las etiquetas \"\"\"\n",
    "valores_unicos_etiquetas('Gender','CLASS')"
   ]
  },
  {
   "cell_type": "markdown",
   "id": "d9498797-20d7-42c7-b71f-71eef332340c",
   "metadata": {
    "tags": []
   },
   "source": [
    "#### 2.2 Cambiar tipo de dato"
   ]
  },
  {
   "cell_type": "code",
   "execution_count": 11,
   "id": "c1f33151-f23b-4be7-9a9b-dd79fae01c3f",
   "metadata": {},
   "outputs": [],
   "source": [
    "\"\"\" funcion para cambiar tipo de dato de columnas codificadas de object => category \"\"\"\n",
    "def cambiar_tipodato_imputacion(df,columnas, tipodato_futuro):\n",
    "    for i in columnas:\n",
    "        df[i]= df[i].astype(tipodato_futuro)"
   ]
  },
  {
   "cell_type": "code",
   "execution_count": 12,
   "id": "147fa04d-4598-41e8-af7c-2f980f5ec3e6",
   "metadata": {},
   "outputs": [],
   "source": [
    "\"\"\" columnas a cambiar tipo de dato numerico\"\"\"\n",
    "columnas=['Gender','CLASS']\n",
    "cambiar_tipodato_imputacion(df,columnas, \"category\")"
   ]
  },
  {
   "cell_type": "code",
   "execution_count": 13,
   "id": "3ed82684-9c07-4e93-b584-cc91156814f0",
   "metadata": {},
   "outputs": [
    {
     "name": "stdout",
     "output_type": "stream",
     "text": [
      "<class 'pandas.core.frame.DataFrame'>\n",
      "RangeIndex: 1000 entries, 0 to 999\n",
      "Data columns (total 14 columns):\n",
      " #   Column     Non-Null Count  Dtype   \n",
      "---  ------     --------------  -----   \n",
      " 0   ID         1000 non-null   int64   \n",
      " 1   No_Pation  1000 non-null   int64   \n",
      " 2   Gender     1000 non-null   category\n",
      " 3   AGE        1000 non-null   int64   \n",
      " 4   Urea       1000 non-null   float64 \n",
      " 5   Cr         1000 non-null   int64   \n",
      " 6   HbA1c      1000 non-null   float64 \n",
      " 7   Chol       1000 non-null   float64 \n",
      " 8   TG         1000 non-null   float64 \n",
      " 9   HDL        1000 non-null   float64 \n",
      " 10  LDL        1000 non-null   float64 \n",
      " 11  VLDL       1000 non-null   float64 \n",
      " 12  BMI        1000 non-null   float64 \n",
      " 13  CLASS      1000 non-null   category\n",
      "dtypes: category(2), float64(8), int64(4)\n",
      "memory usage: 96.1 KB\n"
     ]
    }
   ],
   "source": [
    "\"\"\" comprobar tipo de dato \"\"\"\n",
    "df.info()"
   ]
  },
  {
   "cell_type": "markdown",
   "id": "ad03ba2c-07cf-4589-bcac-10e6f22cc93e",
   "metadata": {},
   "source": [
    "## 3. Matriz de caracteristicas, variable objetivo y division del dataset"
   ]
  },
  {
   "cell_type": "code",
   "execution_count": 15,
   "id": "79fc4b48-f0d2-4bf2-a777-a4aa5fec8b76",
   "metadata": {},
   "outputs": [],
   "source": [
    "\"\"\" lista de caracteristicas \"\"\"\n",
    "caracteristicas_x = ['Gender','AGE','Cr','HbA1c','Chol','TG','HDL','LDL','VLDL','BMI']\n",
    "\n",
    "\"\"\" variable independiente/matriz de caracteristicas \"\"\"\n",
    "X = df[caracteristicas_x]\n",
    "\n",
    "\"\"\" varaible dependiente/objetivo/etiqueta \"\"\"\n",
    "y = df['CLASS']"
   ]
  },
  {
   "cell_type": "code",
   "execution_count": 22,
   "id": "cbbd9242-8fdf-41d9-a2a5-5a16232feaa5",
   "metadata": {},
   "outputs": [],
   "source": [
    "\"\"\" division de los datos en entrenamiento y prueba \"\"\"\n",
    "X_train, X_test, y_train, y_test = train_test_split(X, y, test_size=0.3, random_state=10)"
   ]
  },
  {
   "cell_type": "markdown",
   "id": "03d87abc-dcb3-4043-9fca-13f69fcd23e2",
   "metadata": {
    "tags": []
   },
   "source": [
    "### 4. Modelo de Clasificacion por Arbol de Decision "
   ]
  },
  {
   "cell_type": "code",
   "execution_count": null,
   "id": "3e973423-0859-48f4-a8c1-2d6801d7c17e",
   "metadata": {},
   "outputs": [],
   "source": []
  }
 ],
 "metadata": {
  "kernelspec": {
   "display_name": "Python 3 (ipykernel)",
   "language": "python",
   "name": "python3"
  },
  "language_info": {
   "codemirror_mode": {
    "name": "ipython",
    "version": 3
   },
   "file_extension": ".py",
   "mimetype": "text/x-python",
   "name": "python",
   "nbconvert_exporter": "python",
   "pygments_lexer": "ipython3",
   "version": "3.9.7"
  }
 },
 "nbformat": 4,
 "nbformat_minor": 5
}
